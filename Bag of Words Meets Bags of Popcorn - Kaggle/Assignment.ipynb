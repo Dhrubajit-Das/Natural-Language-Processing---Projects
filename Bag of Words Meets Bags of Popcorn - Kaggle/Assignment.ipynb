{
 "cells": [
  {
   "cell_type": "code",
   "execution_count": 32,
   "metadata": {},
   "outputs": [],
   "source": [
    "#importing the libraries and the train and test files\n",
    "\n",
    "import numpy as np \n",
    "import pandas as pd \n",
    "import matplotlib.pyplot as plt \n",
    "import pandas as pd\n",
    "%matplotlib inline\n",
    "\n",
    "from sklearn.feature_extraction.text import TfidfTransformer\n",
    "from sklearn.feature_extraction.text import CountVectorizer\n",
    "from sklearn.model_selection import train_test_split\n",
    "from sklearn.metrics import precision_score, recall_score, roc_auc_score, confusion_matrix, classification_report\n",
    "\n",
    "import re, string\n",
    "import nltk\n",
    "from nltk.corpus import stopwords\n",
    "from nltk.stem import WordNetLemmatizer\n",
    "\n",
    "from sklearn.model_selection import GridSearchCV\n",
    "       "
   ]
  },
  {
   "cell_type": "code",
   "execution_count": 28,
   "metadata": {},
   "outputs": [],
   "source": [
    "train = pd.read_csv('D:\\\\Hackathons\\\\Signzy-job\\\\labeledTrainData.tsv', delimiter=\"\\t\")\n",
    "test = pd.read_csv('D:\\\\Hackathons\\\\Signzy-job\\\\testData.tsv', delimiter=\"\\t\")"
   ]
  },
  {
   "cell_type": "code",
   "execution_count": 29,
   "metadata": {},
   "outputs": [
    {
     "name": "stdout",
     "output_type": "stream",
     "text": [
      "(25000, 3)\n",
      "(25000, 2)\n"
     ]
    }
   ],
   "source": [
    "#shape of train and test files\n",
    "print(train.shape)\n",
    "print(test.shape)"
   ]
  },
  {
   "cell_type": "code",
   "execution_count": 30,
   "metadata": {},
   "outputs": [
    {
     "data": {
      "text/plain": [
       "id           0\n",
       "sentiment    0\n",
       "review       0\n",
       "dtype: int64"
      ]
     },
     "execution_count": 30,
     "metadata": {},
     "output_type": "execute_result"
    }
   ],
   "source": [
    "#looking for null values\n",
    "train.isnull().sum()"
   ]
  },
  {
   "cell_type": "code",
   "execution_count": null,
   "metadata": {},
   "outputs": [],
   "source": []
  },
  {
   "cell_type": "markdown",
   "metadata": {},
   "source": [
    "### Text preprocessing"
   ]
  },
  {
   "cell_type": "code",
   "execution_count": 4,
   "metadata": {},
   "outputs": [],
   "source": [
    "# preprocessing train data\n",
    "corpus = []\n",
    "for i in range(0,25000):\n",
    "    review = re.sub('[^a-zA-Z]', ' ', train['review'].values[i])  #keeping only alphabets\n",
    "    review = review.lower()  #lowering\n",
    "    review = review.split()\n",
    "    lemma = WordNetLemmatizer()\n",
    "    review = [lemma.lemmatize(word) for word in review if not word in set(stopwords.words('english'))] #removing stopwords\n",
    "    review = ' '.join(review)\n",
    "    corpus.append(review)\n",
    "    \n",
    "    \n",
    "#joining the cleaned reviews to the main train file and saving it as a csv file\n",
    "train['cleaned_review'] = corpus\n",
    "train.to_csv(\"cleaned_train.csv\", index=False)"
   ]
  },
  {
   "cell_type": "code",
   "execution_count": 5,
   "metadata": {},
   "outputs": [],
   "source": [
    "# preprocessing test data\n",
    "corpus_test = []\n",
    "for i in range(0,25000):\n",
    "    review = re.sub('[^a-zA-Z]', ' ', test['review'].values[i])\n",
    "    review = review.lower()\n",
    "    review = review.split()\n",
    "    lemma = WordNetLemmatizer()\n",
    "    review = [lemma.lemmatize(word) for word in review if not word in set(stopwords.words('english'))]\n",
    "    review = ' '.join(review)\n",
    "    corpus_test.append(review)\n",
    "\n",
    "    \n",
    "#joining the cleaned reviews to the main test file and saving it as a csv file\n",
    "test['cleaned_review'] = corpus_test\n",
    "test.to_csv(\"cleaned_test.csv\", index=False)"
   ]
  },
  {
   "cell_type": "code",
   "execution_count": 31,
   "metadata": {},
   "outputs": [],
   "source": [
    "#importing csv files\n",
    "train = pd.read_csv(\"cleaned_train.csv\")\n",
    "test = pd.read_csv(\"cleaned_test.csv\")"
   ]
  },
  {
   "cell_type": "code",
   "execution_count": 5,
   "metadata": {},
   "outputs": [],
   "source": [
    "X = train['cleaned_review']\n",
    "y = train['sentiment']"
   ]
  },
  {
   "cell_type": "code",
   "execution_count": 6,
   "metadata": {},
   "outputs": [],
   "source": [
    "\n",
    "train_X,test_X, train_y, test_y = train_test_split(X,y, test_size=0.3, random_state=0) #splitting into 70:30"
   ]
  },
  {
   "cell_type": "code",
   "execution_count": null,
   "metadata": {},
   "outputs": [],
   "source": []
  },
  {
   "cell_type": "markdown",
   "metadata": {},
   "source": [
    "### Bag of words models"
   ]
  },
  {
   "cell_type": "code",
   "execution_count": 7,
   "metadata": {},
   "outputs": [],
   "source": [
    "bag_of_words_vectorizer = CountVectorizer(analyzer = \"word\",\n",
    "                                          tokenizer = None,    \n",
    "                                          preprocessor = None,\n",
    "                                          ngram_range = (1, 1),\n",
    "                                          binary = False,\n",
    "                                          strip_accents='unicode')"
   ]
  },
  {
   "cell_type": "markdown",
   "metadata": {},
   "source": [
    "#### Model 1: MultinomialNB"
   ]
  },
  {
   "cell_type": "code",
   "execution_count": 8,
   "metadata": {},
   "outputs": [
    {
     "name": "stdout",
     "output_type": "stream",
     "text": [
      "[[3334  455]\n",
      " [ 551 3160]]\n",
      "\n",
      "             precision    recall  f1-score   support\n",
      "\n",
      "          0       0.86      0.88      0.87      3789\n",
      "          1       0.87      0.85      0.86      3711\n",
      "\n",
      "avg / total       0.87      0.87      0.87      7500\n",
      "\n",
      "\n",
      "Precision variance: 0.000064\n",
      "Recall variance: 0.000202\n"
     ]
    }
   ],
   "source": [
    "from sklearn.naive_bayes import MultinomialNB\n",
    "\n",
    "bow_mnb = bag_of_words_vectorizer.fit_transform(train_X)\n",
    "bow_mnb_test = bag_of_words_vectorizer.transform(test_X)\n",
    "\n",
    "bow_mnb_classifier = MultinomialNB()\n",
    "bow_mnb_classifier.fit(bow_mnb, train_y)\n",
    "bow_mnb_prediction = bow_mnb_classifier.predict(bow_mnb_test)\n",
    "\n",
    "print(confusion_matrix(test_y,bow_mnb_prediction))\n",
    "print(\"\")\n",
    "print(classification_report(test_y,bow_mnb_prediction))\n",
    "print(\"\")\n",
    "print('Precision variance: %f' %(np.var(precision_score(test_y, bow_mnb_prediction, average=None))))\n",
    "print('Recall variance: %f' %(np.var(recall_score(test_y, bow_mnb_prediction, average=None))))"
   ]
  },
  {
   "cell_type": "code",
   "execution_count": null,
   "metadata": {},
   "outputs": [],
   "source": []
  },
  {
   "cell_type": "markdown",
   "metadata": {},
   "source": [
    "#### Model 2: BernoulliNB"
   ]
  },
  {
   "cell_type": "code",
   "execution_count": 9,
   "metadata": {},
   "outputs": [
    {
     "name": "stdout",
     "output_type": "stream",
     "text": [
      "[[3376  413]\n",
      " [ 680 3031]]\n",
      "             precision    recall  f1-score   support\n",
      "\n",
      "          0       0.83      0.89      0.86      3789\n",
      "          1       0.88      0.82      0.85      3711\n",
      "\n",
      "avg / total       0.86      0.85      0.85      7500\n",
      "\n",
      "\n",
      "Precision variance: 0.000570\n",
      "Recall variance: 0.001378\n"
     ]
    }
   ],
   "source": [
    "from sklearn.naive_bayes import BernoulliNB\n",
    "\n",
    "bow_bnb = bag_of_words_vectorizer.fit_transform(train_X)\n",
    "bow_bnb_test = bag_of_words_vectorizer.transform(test_X)\n",
    "\n",
    "\n",
    "bow_bnb_classifier = BernoulliNB()\n",
    "bow_bnb_classifier.fit(bow_bnb, train_y)\n",
    "bow_bnb_prediction = bow_bnb_classifier.predict(bow_bnb_test)\n",
    "\n",
    "print(confusion_matrix(test_y,bow_bnb_prediction))\n",
    "print(classification_report(test_y,bow_bnb_prediction))\n",
    "print(\"\")\n",
    "print('Precision variance: %f' %(np.var(precision_score(test_y, bow_bnb_prediction, average=None))))\n",
    "print('Recall variance: %f' %(np.var(recall_score(test_y, bow_bnb_prediction, average=None))))"
   ]
  },
  {
   "cell_type": "code",
   "execution_count": null,
   "metadata": {},
   "outputs": [],
   "source": []
  },
  {
   "cell_type": "markdown",
   "metadata": {},
   "source": [
    "#### Model 3: LogisticRegression"
   ]
  },
  {
   "cell_type": "code",
   "execution_count": 11,
   "metadata": {},
   "outputs": [
    {
     "name": "stdout",
     "output_type": "stream",
     "text": [
      "[[3294  495]\n",
      " [ 438 3273]]\n",
      "             precision    recall  f1-score   support\n",
      "\n",
      "          0       0.88      0.87      0.88      3789\n",
      "          1       0.87      0.88      0.88      3711\n",
      "\n",
      "avg / total       0.88      0.88      0.88      7500\n",
      "\n",
      "\n",
      "Precision variance: 0.000049\n",
      "Recall variance: 0.000040\n"
     ]
    }
   ],
   "source": [
    "from sklearn.linear_model import LogisticRegression\n",
    "lr = LogisticRegression()\n",
    "bow_lr = bag_of_words_vectorizer.fit_transform(train_X)\n",
    "bow_lr_test = bag_of_words_vectorizer.transform(test_X)\n",
    "lr.fit(bow_lr, train_y)\n",
    "bow_lr_pred = lr.predict(bow_lr_test)\n",
    "\n",
    "print(confusion_matrix(test_y,bow_lr_pred))\n",
    "print(classification_report(test_y,bow_lr_pred))\n",
    "print(\"\")\n",
    "print('Precision variance: %f' %(np.var(precision_score(test_y, bow_lr_pred, average=None))))\n",
    "print('Recall variance: %f' %(np.var(recall_score(test_y, bow_lr_pred, average=None))))"
   ]
  },
  {
   "cell_type": "code",
   "execution_count": null,
   "metadata": {},
   "outputs": [],
   "source": []
  },
  {
   "cell_type": "markdown",
   "metadata": {},
   "source": [
    "#### Model 4: RandomForest"
   ]
  },
  {
   "cell_type": "code",
   "execution_count": 23,
   "metadata": {},
   "outputs": [
    {
     "name": "stdout",
     "output_type": "stream",
     "text": [
      "[[3236  553]\n",
      " [ 524 3187]]\n",
      "             precision    recall  f1-score   support\n",
      "\n",
      "          0       0.86      0.85      0.86      3789\n",
      "          1       0.85      0.86      0.86      3711\n",
      "\n",
      "avg / total       0.86      0.86      0.86      7500\n",
      "\n",
      "\n",
      "Precision variance: 0.000018\n",
      "Recall variance: 0.000006\n"
     ]
    }
   ],
   "source": [
    "from sklearn.ensemble import RandomForestClassifier\n",
    "rf = RandomForestClassifier(n_estimators=100)\n",
    "bow_rf = bag_of_words_vectorizer.fit_transform(train_X)\n",
    "bow_rf_test = bag_of_words_vectorizer.transform(test_X)\n",
    "rf.fit(bow_rf, train_y)\n",
    "bow_rf_pred = rf.predict(bow_rf_test)\n",
    "\n",
    "print(confusion_matrix(test_y,bow_rf_pred))\n",
    "print(classification_report(test_y,bow_rf_pred))\n",
    "print(\"\")\n",
    "print('Precision variance: %f' %(np.var(precision_score(test_y, bow_rf_pred, average=None))))\n",
    "print('Recall variance: %f' %(np.var(recall_score(test_y, bow_rf_pred, average=None))))"
   ]
  },
  {
   "cell_type": "code",
   "execution_count": null,
   "metadata": {},
   "outputs": [],
   "source": []
  },
  {
   "cell_type": "markdown",
   "metadata": {},
   "source": [
    "#### Model 5: GradientBoosting"
   ]
  },
  {
   "cell_type": "code",
   "execution_count": 25,
   "metadata": {},
   "outputs": [
    {
     "name": "stdout",
     "output_type": "stream",
     "text": [
      "[[2887  902]\n",
      " [ 494 3217]]\n",
      "             precision    recall  f1-score   support\n",
      "\n",
      "          0       0.85      0.76      0.81      3789\n",
      "          1       0.78      0.87      0.82      3711\n",
      "\n",
      "avg / total       0.82      0.81      0.81      7500\n",
      "\n",
      "\n",
      "Precision variance: 0.001328\n",
      "Recall variance: 0.002753\n"
     ]
    }
   ],
   "source": [
    "from sklearn.ensemble import GradientBoostingClassifier\n",
    "gbc = GradientBoostingClassifier()\n",
    "bow_gbc = bag_of_words_vectorizer.fit_transform(train_X)\n",
    "bow_gbc_test = bag_of_words_vectorizer.transform(test_X)\n",
    "gbc.fit(bow_gbc, train_y)\n",
    "bow_gbc_pred = gbc.predict(bow_gbc_test)\n",
    "\n",
    "print(confusion_matrix(test_y,bow_gbc_pred))\n",
    "print(classification_report(test_y,bow_gbc_pred))\n",
    "print(\"\")\n",
    "print('Precision variance: %f' %(np.var(precision_score(test_y, bow_gbc_pred, average=None))))\n",
    "print('Recall variance: %f' %(np.var(recall_score(test_y, bow_gbc_pred, average=None))))"
   ]
  },
  {
   "cell_type": "code",
   "execution_count": null,
   "metadata": {},
   "outputs": [],
   "source": []
  },
  {
   "cell_type": "markdown",
   "metadata": {},
   "source": [
    "#### Model 6: XGBoost"
   ]
  },
  {
   "cell_type": "code",
   "execution_count": 30,
   "metadata": {},
   "outputs": [
    {
     "name": "stdout",
     "output_type": "stream",
     "text": [
      "[[2887  902]\n",
      " [ 494 3217]]\n",
      "             precision    recall  f1-score   support\n",
      "\n",
      "          0       0.85      0.76      0.81      3789\n",
      "          1       0.78      0.87      0.82      3711\n",
      "\n",
      "avg / total       0.82      0.81      0.81      7500\n",
      "\n",
      "\n",
      "Precision variance: 0.001328\n",
      "Recall variance: 0.002753\n"
     ]
    }
   ],
   "source": [
    "from xgboost import XGBClassifier\n",
    "xgb = XGBClassifier()\n",
    "bow_xgb = bag_of_words_vectorizer.fit_transform(train_X)\n",
    "bow_xgb_test = bag_of_words_vectorizer.transform(test_X)\n",
    "xgb.fit(bow_xgb, train_y)\n",
    "bow_xgb_pred = gbc.predict(bow_xgb_test)\n",
    "\n",
    "print(confusion_matrix(test_y,bow_xgb_pred))\n",
    "print(classification_report(test_y,bow_xgb_pred))\n",
    "print(\"\")\n",
    "print('Precision variance: %f' %(np.var(precision_score(test_y, bow_xgb_pred, average=None))))\n",
    "print('Recall variance: %f' %(np.var(recall_score(test_y, bow_xgb_pred, average=None))))"
   ]
  },
  {
   "cell_type": "code",
   "execution_count": null,
   "metadata": {},
   "outputs": [],
   "source": []
  },
  {
   "cell_type": "markdown",
   "metadata": {},
   "source": [
    "#### Selecting best model to go forward: Logistic Regression [Kaggle Public LB Score: 85.536]"
   ]
  },
  {
   "cell_type": "code",
   "execution_count": 26,
   "metadata": {},
   "outputs": [],
   "source": [
    "pred = lr.predict(test_text_bow)\n",
    "predicted = pd.DataFrame()\n",
    "predicted['id'] = test['id']\n",
    "predicted['sentiment'] = pred\n",
    "predicted.to_csv(\"lr.csv\", index=False)"
   ]
  },
  {
   "cell_type": "code",
   "execution_count": null,
   "metadata": {},
   "outputs": [],
   "source": []
  },
  {
   "cell_type": "markdown",
   "metadata": {},
   "source": [
    "### Tf-Idf Vectorizer and setting maximum features to be used at 10,000 features"
   ]
  },
  {
   "cell_type": "code",
   "execution_count": 12,
   "metadata": {},
   "outputs": [],
   "source": [
    "tfidf_vectorizer = CountVectorizer(analyzer = \"word\",\n",
    "                                           tokenizer = None,\n",
    "                                           preprocessor = None,\n",
    "                                           ngram_range = (1,1),\n",
    "                                           strip_accents = 'unicode',\n",
    "                                           max_features = 10000)"
   ]
  },
  {
   "cell_type": "code",
   "execution_count": 37,
   "metadata": {},
   "outputs": [
    {
     "name": "stdout",
     "output_type": "stream",
     "text": [
      "[[3333  456]\n",
      " [ 372 3339]]\n",
      "             precision    recall  f1-score   support\n",
      "\n",
      "          0       0.90      0.88      0.89      3789\n",
      "          1       0.88      0.90      0.89      3711\n",
      "\n",
      "avg / total       0.89      0.89      0.89      7500\n",
      "\n",
      "\n",
      "Precision variance: 0.000098\n",
      "Recall variance: 0.000101\n"
     ]
    }
   ],
   "source": [
    "lr_tfidf = LogisticRegression()\n",
    "lr_tfidf_train1 = tfidf_vectorizer.fit_transform(train_X)\n",
    "lr_tfidf_test1 = tfidf_vectorizer.transform(test_X)\n",
    "\n",
    "tfidf_transformer = TfidfTransformer()\n",
    "data_tfidf_lr = tfidf_transformer.fit_transform(lr_tfidf_train1)\n",
    "data_tfidf_test_lr = tfidf_transformer.transform(lr_tfidf_test1)\n",
    "\n",
    "lr_tfidf.fit(data_tfidf_lr, train_y)\n",
    "lr_tfidf_pred1 = lr_tfidf.predict(data_tfidf_test_lr)\n",
    "\n",
    "print(confusion_matrix(test_y,lr_tfidf_pred1))\n",
    "print(classification_report(test_y,lr_tfidf_pred1))\n",
    "print(\"\")\n",
    "print('Precision variance: %f' %(np.var(precision_score(test_y, lr_tfidf_pred1, average=None))))\n",
    "print('Recall variance: %f' %(np.var(recall_score(test_y, lr_tfidf_pred1, average=None))))"
   ]
  },
  {
   "cell_type": "code",
   "execution_count": null,
   "metadata": {},
   "outputs": [],
   "source": []
  },
  {
   "cell_type": "code",
   "execution_count": 40,
   "metadata": {},
   "outputs": [],
   "source": [
    "test_text_bow_10000feat = tfidf_vectorizer.transform(test_text)\n",
    "test_text_bow_10000feat = tfidf_transformer.transform(test_text_bow_10000feat)\n",
    "pred = lr_tfidf.predict(test_text_bow_10000feat)\n",
    "predicted = pd.DataFrame()\n",
    "predicted['id'] = test['id']\n",
    "predicted['sentiment'] = pred\n",
    "predicted.to_csv(\"lr_10000feat.csv\", index=False)"
   ]
  },
  {
   "cell_type": "markdown",
   "metadata": {},
   "source": [
    "#### Kaggle Public LB Score: 87.724"
   ]
  },
  {
   "cell_type": "code",
   "execution_count": null,
   "metadata": {},
   "outputs": [],
   "source": []
  },
  {
   "cell_type": "code",
   "execution_count": null,
   "metadata": {},
   "outputs": [],
   "source": []
  },
  {
   "cell_type": "markdown",
   "metadata": {},
   "source": [
    "### N-Gram Analysis"
   ]
  },
  {
   "cell_type": "markdown",
   "metadata": {},
   "source": [
    "#### Bi-Gram (2,2) Analysis"
   ]
  },
  {
   "cell_type": "code",
   "execution_count": 41,
   "metadata": {},
   "outputs": [
    {
     "name": "stdout",
     "output_type": "stream",
     "text": [
      "[[3107  682]\n",
      " [ 562 3149]]\n",
      "             precision    recall  f1-score   support\n",
      "\n",
      "          0       0.85      0.82      0.83      3789\n",
      "          1       0.82      0.85      0.84      3711\n",
      "\n",
      "avg / total       0.83      0.83      0.83      7500\n",
      "\n",
      "\n",
      "Precision variance: 0.000154\n",
      "Recall variance: 0.000204\n"
     ]
    }
   ],
   "source": [
    "ngram_bi = CountVectorizer(analyzer = \"word\",\n",
    "                                           tokenizer = None,\n",
    "                                           preprocessor = None,\n",
    "                                           ngram_range = (2,2),\n",
    "                                           strip_accents = 'unicode',\n",
    "                                           max_features = 10000)\n",
    "\n",
    "\n",
    "\n",
    "ngram_bi_train = ngram_bi.fit_transform(train_X)\n",
    "ngram_bi_test = ngram_bi.transform(test_X)\n",
    "\n",
    "tfidf_transformer = TfidfTransformer()\n",
    "ngram_bi_tfidf = tfidf_transformer.fit_transform(ngram_bi_train)\n",
    "ngram_bi_tfidf_test = tfidf_transformer.transform(ngram_bi_test)\n",
    "\n",
    "lr_tfidf.fit(ngram_bi_tfidf, train_y)\n",
    "ngram_bi_tfidf_pred = lr_tfidf.predict(ngram_bi_tfidf_test)\n",
    "\n",
    "print(confusion_matrix(test_y,ngram_bi_tfidf_pred))\n",
    "print(classification_report(test_y,ngram_bi_tfidf_pred))\n",
    "print(\"\")\n",
    "print('Precision variance: %f' %(np.var(precision_score(test_y, ngram_bi_tfidf_pred, average=None))))\n",
    "print('Recall variance: %f' %(np.var(recall_score(test_y, ngram_bi_tfidf_pred, average=None))))"
   ]
  },
  {
   "cell_type": "code",
   "execution_count": null,
   "metadata": {},
   "outputs": [],
   "source": []
  },
  {
   "cell_type": "markdown",
   "metadata": {},
   "source": [
    "#### Tri-Gram (3,3) Analysis"
   ]
  },
  {
   "cell_type": "code",
   "execution_count": 42,
   "metadata": {},
   "outputs": [
    {
     "name": "stdout",
     "output_type": "stream",
     "text": [
      "[[2409 1380]\n",
      " [ 780 2931]]\n",
      "             precision    recall  f1-score   support\n",
      "\n",
      "          0       0.76      0.64      0.69      3789\n",
      "          1       0.68      0.79      0.73      3711\n",
      "\n",
      "avg / total       0.72      0.71      0.71      7500\n",
      "\n",
      "\n",
      "Precision variance: 0.001426\n",
      "Recall variance: 0.005931\n"
     ]
    }
   ],
   "source": [
    "\n",
    "ngram_tri = CountVectorizer(analyzer = \"word\",\n",
    "                                           tokenizer = None,\n",
    "                                           preprocessor = None,\n",
    "                                           ngram_range = (3,3),\n",
    "                                           strip_accents = 'unicode',\n",
    "                                           max_features = 10000)\n",
    "\n",
    "\n",
    "ngram_tri_train = ngram_tri.fit_transform(train_X)\n",
    "ngram_tri_test = ngram_tri.transform(test_X)\n",
    "\n",
    "tfidf_transformer = TfidfTransformer()\n",
    "ngram_tri_tfidf = tfidf_transformer.fit_transform(ngram_tri_train)\n",
    "ngram_tri_tfidf_test = tfidf_transformer.transform(ngram_tri_test)\n",
    "\n",
    "lr_tfidf.fit(ngram_tri_tfidf, train_y)\n",
    "ngram_tri_tfidf_pred = lr_tfidf.predict(ngram_tri_tfidf_test)\n",
    "\n",
    "print(confusion_matrix(test_y,ngram_tri_tfidf_pred))\n",
    "print(classification_report(test_y,ngram_tri_tfidf_pred))\n",
    "print(\"\")\n",
    "print('Precision variance: %f' %(np.var(precision_score(test_y, ngram_tri_tfidf_pred, average=None))))\n",
    "print('Recall variance: %f' %(np.var(recall_score(test_y, ngram_tri_tfidf_pred, average=None))))"
   ]
  },
  {
   "cell_type": "code",
   "execution_count": null,
   "metadata": {},
   "outputs": [],
   "source": []
  },
  {
   "cell_type": "markdown",
   "metadata": {},
   "source": [
    "#### Uni-bi Gram (1,2) Analysis"
   ]
  },
  {
   "cell_type": "code",
   "execution_count": 15,
   "metadata": {},
   "outputs": [],
   "source": [
    "lr_tfidf = LogisticRegression()"
   ]
  },
  {
   "cell_type": "code",
   "execution_count": 16,
   "metadata": {},
   "outputs": [
    {
     "name": "stdout",
     "output_type": "stream",
     "text": [
      "[[3332  457]\n",
      " [ 381 3330]]\n",
      "             precision    recall  f1-score   support\n",
      "\n",
      "          0       0.90      0.88      0.89      3789\n",
      "          1       0.88      0.90      0.89      3711\n",
      "\n",
      "avg / total       0.89      0.89      0.89      7500\n",
      "\n",
      "\n",
      "Precision variance: 0.000082\n",
      "Recall variance: 0.000081\n"
     ]
    }
   ],
   "source": [
    "ngram_unibi = CountVectorizer(analyzer = \"word\",\n",
    "                                           tokenizer = None,\n",
    "                                           preprocessor = None,\n",
    "                                           ngram_range = (1,2),\n",
    "                                           strip_accents = 'unicode',\n",
    "                                           max_features = 10000)\n",
    "\n",
    "\n",
    "ngram_unibi_train = ngram_unibi.fit_transform(train_X)\n",
    "ngram_unibi_test = ngram_unibi.transform(test_X)\n",
    "\n",
    "tfidf_transformer = TfidfTransformer()\n",
    "ngram_unibi_tfidf = tfidf_transformer.fit_transform(ngram_unibi_train)\n",
    "ngram_unibi_tfidf_test = tfidf_transformer.transform(ngram_unibi_test)\n",
    "\n",
    "lr_tfidf.fit(ngram_unibi_tfidf, train_y)\n",
    "ngram_unibi_tfidf_pred = lr_tfidf.predict(ngram_unibi_tfidf_test)\n",
    "\n",
    "print(confusion_matrix(test_y,ngram_unibi_tfidf_pred))\n",
    "print(classification_report(test_y,ngram_unibi_tfidf_pred))\n",
    "print(\"\")\n",
    "print('Precision variance: %f' %(np.var(precision_score(test_y, ngram_unibi_tfidf_pred, average=None))))\n",
    "print('Recall variance: %f' %(np.var(recall_score(test_y, ngram_unibi_tfidf_pred, average=None))))"
   ]
  },
  {
   "cell_type": "markdown",
   "metadata": {},
   "source": [
    "#### Kaggle Public LB Score: 88.056"
   ]
  },
  {
   "cell_type": "code",
   "execution_count": 21,
   "metadata": {},
   "outputs": [],
   "source": [
    "test_text = test['cleaned_review']"
   ]
  },
  {
   "cell_type": "code",
   "execution_count": 22,
   "metadata": {},
   "outputs": [],
   "source": [
    "test_text_bow_10000feat = ngram_unibi.transform(test_text)\n",
    "test_text_bow_10000feat = tfidf_transformer.transform(test_text_bow_10000feat)\n",
    "pred = lr_tfidf.predict(test_text_bow_10000feat)\n",
    "predicted = pd.DataFrame()\n",
    "predicted['id'] = test['id']\n",
    "predicted['sentiment'] = pred\n",
    "predicted.to_csv(\"lr_10000feat_unibi.csv\", index=False)"
   ]
  },
  {
   "cell_type": "code",
   "execution_count": null,
   "metadata": {},
   "outputs": [],
   "source": []
  },
  {
   "cell_type": "markdown",
   "metadata": {},
   "source": [
    "### Checking cross-validation score for the best model till now..."
   ]
  },
  {
   "cell_type": "code",
   "execution_count": 26,
   "metadata": {},
   "outputs": [],
   "source": [
    "from sklearn.model_selection import learning_curve\n",
    "from sklearn.metrics import explained_variance_score, make_scorer\n",
    "from sklearn.cross_validation import KFold\n",
    "\n",
    "def plot_curve(model, train, title):\n",
    "    model.fit(train, y)\n",
    "    train_sizes, train_scores, test_scores = learning_curve(model, train, y, n_jobs=-1, cv=5, train_sizes=np.linspace(.1, 1., 10), verbose=0)\n",
    "\n",
    "    train_scores_mean = np.mean(train_scores, axis=1)\n",
    "    train_scores_std = np.std(train_scores, axis=1)\n",
    "    test_scores_mean = np.mean(test_scores, axis=1)\n",
    "    test_scores_std = np.std(test_scores, axis=1)\n",
    "    \n",
    "    plt.figure()\n",
    "    plt.title(title)\n",
    "    plt.legend(loc=\"best\")\n",
    "    plt.xlabel(\"Training samples\")\n",
    "    plt.ylabel(\"Score\")\n",
    "    plt.gca().invert_yaxis()\n",
    "    \n",
    "    # plot the std deviation as a transparent range at each training set size\n",
    "    plt.fill_between(train_sizes, train_scores_mean - train_scores_std, train_scores_mean + train_scores_std, alpha=0.1, color=\"r\")\n",
    "    plt.fill_between(train_sizes, test_scores_mean - test_scores_std, test_scores_mean + test_scores_std, alpha=0.1, color=\"g\")\n",
    "    \n",
    "    # plot the average training and test score lines at each training set size\n",
    "    plt.plot(train_sizes, train_scores_mean, 'o-', color=\"r\", label=\"Training score\")\n",
    "    plt.plot(train_sizes, test_scores_mean, 'o-', color=\"g\", label=\"Cross-validation score\")\n",
    "    plt.legend()\n",
    "    # sizes the window for readability and displays the plot\n",
    "    # shows error from 0 to 1.1\n",
    "    plt.ylim(-.1,1.1)\n",
    "    plt.show()\n"
   ]
  },
  {
   "cell_type": "code",
   "execution_count": 24,
   "metadata": {},
   "outputs": [],
   "source": [
    "#transforming the test file accordingly..\n",
    "train_file = ngram_unibi.transform(X)\n",
    "train_file = tfidf_transformer.transform(train_file)"
   ]
  },
  {
   "cell_type": "code",
   "execution_count": 27,
   "metadata": {},
   "outputs": [
    {
     "name": "stderr",
     "output_type": "stream",
     "text": [
      "No handles with labels found to put in legend.\n"
     ]
    },
    {
     "data": {
      "image/png": "[encoded data removed]",
      "text/plain": [
       "<Figure size 432x288 with 1 Axes>"
      ]
     },
     "metadata": {},
     "output_type": "display_data"
    }
   ],
   "source": [
    "plot_curve(lr_tfidf, train_file, \"LogisticRegression\")"
   ]
  },
  {
   "cell_type": "code",
   "execution_count": null,
   "metadata": {},
   "outputs": [],
   "source": []
  },
  {
   "cell_type": "markdown",
   "metadata": {},
   "source": [
    "### Hyper-parameter Tuning"
   ]
  },
  {
   "cell_type": "code",
   "execution_count": 34,
   "metadata": {},
   "outputs": [
    {
     "name": "stdout",
     "output_type": "stream",
     "text": [
      "Best Penalty: l2\n",
      "Best C: 2.7825594022071245\n"
     ]
    }
   ],
   "source": [
    "##### Penalty and C\n",
    "\n",
    "penalty = ['l1', 'l2']\n",
    "C = [np.logspace(0, 4, 10)]\n",
    "\n",
    "hyperparameters1 = dict(C=C, penalty=penalty)\n",
    "clf = GridSearchCV(lr_tfidf, hyperparameters1, cv=5, verbose=0) \n",
    "best_model = clf.fit(train_file, y)\n",
    "\n",
    "# View best hyperparameters\n",
    "print('Best Penalty:', best_model.best_estimator_.get_params()['penalty'])\n",
    "print('Best C:', best_model.best_estimator_.get_params()['C'])"
   ]
  },
  {
   "cell_type": "code",
   "execution_count": 35,
   "metadata": {},
   "outputs": [],
   "source": [
    "pred = best_model.predict(test_text_bow_10000feat)\n",
    "predicted = pd.DataFrame()\n",
    "predicted['id'] = test['id']\n",
    "predicted['sentiment'] = pred\n",
    "predicted.to_csv(\"hptuning1.csv\", index=False)"
   ]
  },
  {
   "cell_type": "markdown",
   "metadata": {},
   "source": [
    "#### Kaggle Public LB Score: 88.384"
   ]
  },
  {
   "cell_type": "code",
   "execution_count": null,
   "metadata": {},
   "outputs": [],
   "source": []
  },
  {
   "cell_type": "code",
   "execution_count": 37,
   "metadata": {},
   "outputs": [
    {
     "name": "stdout",
     "output_type": "stream",
     "text": [
      "Best Penalty: l2\n",
      "Best C: 2\n",
      "Best tol: 0.1\n"
     ]
    }
   ],
   "source": [
    "##### Penalty, C and tol\n",
    "\n",
    "penalty = ['l1', 'l2']\n",
    "C = [0.001,0.01,0.1,1,2,3,4,5]\n",
    "tol = [0.00001,0.0001,0.001,0.01,0.1]\n",
    "\n",
    "hyperparameters2 = dict(C=C, penalty=penalty, tol=tol)\n",
    "clf = GridSearchCV(lr_tfidf, hyperparameters2, cv=5, verbose=0) \n",
    "best_model2 = clf.fit(train_file, y)\n",
    "\n",
    "# View best hyperparameters\n",
    "print('Best Penalty:', best_model2.best_estimator_.get_params()['penalty'])\n",
    "print('Best C:', best_model2.best_estimator_.get_params()['C'])\n",
    "print('Best tol:', best_model2.best_estimator_.get_params()['tol'])"
   ]
  },
  {
   "cell_type": "code",
   "execution_count": 38,
   "metadata": {},
   "outputs": [],
   "source": [
    "pred = best_model2.predict(test_text_bow_10000feat)\n",
    "predicted = pd.DataFrame()\n",
    "predicted['id'] = test['id']\n",
    "predicted['sentiment'] = pred\n",
    "predicted.to_csv(\"hptuning2.csv\", index=False)"
   ]
  },
  {
   "cell_type": "markdown",
   "metadata": {},
   "source": [
    "#### Kaggle Public LB Score: 88.452"
   ]
  },
  {
   "cell_type": "code",
   "execution_count": null,
   "metadata": {},
   "outputs": [],
   "source": []
  },
  {
   "cell_type": "code",
   "execution_count": 43,
   "metadata": {},
   "outputs": [
    {
     "name": "stderr",
     "output_type": "stream",
     "text": [
      "D:\\Installation_File\\Anaconda3\\lib\\site-packages\\scipy\\optimize\\linesearch.py:313: LineSearchWarning: The line search algorithm did not converge\n",
      "  warn('The line search algorithm did not converge', LineSearchWarning)\n",
      "D:\\Installation_File\\Anaconda3\\lib\\site-packages\\sklearn\\utils\\optimize.py:195: UserWarning: Line Search failed\n",
      "  warnings.warn('Line Search failed')\n"
     ]
    },
    {
     "name": "stdout",
     "output_type": "stream",
     "text": [
      "Best C: 2\n",
      "Best tol: 0.001\n",
      "Best solver: sag\n"
     ]
    }
   ],
   "source": [
    "##### solver, C and tol\n",
    "\n",
    "solver = ['newton-cg', 'lbfgs', 'sag']\n",
    "C = [0.001,0.01,0.1,1,2,3,4,5]\n",
    "tol = [0.00001,0.0001,0.001,0.01,0.1]\n",
    "\n",
    "hyperparameters3 = dict(C=C, tol=tol, solver=solver)\n",
    "clf = GridSearchCV(lr_tfidf, hyperparameters3, cv=5, verbose=0) \n",
    "best_model3 = clf.fit(train_file, y)\n",
    "\n",
    "# View best hyperparameters\n",
    "\n",
    "print('Best C:', best_model3.best_estimator_.get_params()['C'])\n",
    "print('Best tol:', best_model3.best_estimator_.get_params()['tol'])\n",
    "print('Best solver:', best_model3.best_estimator_.get_params()['solver'])"
   ]
  },
  {
   "cell_type": "code",
   "execution_count": 44,
   "metadata": {},
   "outputs": [],
   "source": [
    "pred = best_model3.predict(test_text_bow_10000feat)\n",
    "predicted = pd.DataFrame()\n",
    "predicted['id'] = test['id']\n",
    "predicted['sentiment'] = pred\n",
    "predicted.to_csv(\"hptuning3.csv\", index=False)"
   ]
  },
  {
   "cell_type": "markdown",
   "metadata": {},
   "source": [
    "#### Kaggle Public LB Score: 88.464"
   ]
  },
  {
   "cell_type": "code",
   "execution_count": null,
   "metadata": {},
   "outputs": [],
   "source": []
  },
  {
   "cell_type": "code",
   "execution_count": 60,
   "metadata": {},
   "outputs": [
    {
     "name": "stdout",
     "output_type": "stream",
     "text": [
      "LogisticRegression(C=2, class_weight=None, dual=False, fit_intercept=True,\n",
      "          intercept_scaling=1, max_iter=100, multi_class='ovr', n_jobs=1,\n",
      "          penalty='l2', random_state=None, solver='sag', tol=0.001,\n",
      "          verbose=0, warm_start=False)\n"
     ]
    }
   ],
   "source": [
    "logistic = LogisticRegression(C=2, tol= 0.001, solver= 'sag')\n",
    "print(logistic)"
   ]
  },
  {
   "cell_type": "code",
   "execution_count": null,
   "metadata": {},
   "outputs": [],
   "source": []
  }
 ],
 "metadata": {
  "kernelspec": {
   "display_name": "Python 3",
   "language": "python",
   "name": "python3"
  },
  "language_info": {
   "codemirror_mode": {
    "name": "ipython",
    "version": 3
   },
   "file_extension": ".py",
   "mimetype": "text/x-python",
   "name": "python",
   "nbconvert_exporter": "python",
   "pygments_lexer": "ipython3",
   "version": "3.6.5"
  }
 },
 "nbformat": 4,
 "nbformat_minor": 2
}
